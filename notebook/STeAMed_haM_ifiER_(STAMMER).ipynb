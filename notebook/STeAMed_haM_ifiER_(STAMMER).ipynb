{
  "nbformat": 4,
  "nbformat_minor": 0,
  "metadata": {
    "colab": {
      "provenance": []
    },
    "kernelspec": {
      "name": "python3",
      "display_name": "Python 3"
    },
    "language_info": {
      "name": "python"
    }
  },
  "cells": [
    {
      "cell_type": "markdown",
      "source": [
        "Colab notebook prepared by: [justinjohn-03](https://github.com/justinjohn0306)\n",
        "\n",
        "Code repo: [stammer](https://github.com/ArdenButterfield/stammer)"
      ],
      "metadata": {
        "id": "KvAkrOEZWf2v"
      }
    },
    {
      "cell_type": "code",
      "execution_count": null,
      "metadata": {
        "cellView": "form",
        "id": "8FVn0YD_SujO"
      },
      "outputs": [],
      "source": [
        "#@markdown # Install STAMMER\n",
        "!git clone https://github.com/ArdenButterfield/stammer\n",
        "!pip install -q opencv-python opencv-python-headless\n",
        "\n",
        "%cd stammer"
      ]
    },
    {
      "cell_type": "code",
      "source": [
        "#@markdown # Mount gdrive\n",
        "from google.colab import drive\n",
        "drive.mount('/content/drive')"
      ],
      "metadata": {
        "cellView": "form",
        "id": "KdDuAEg1UTaM"
      },
      "execution_count": null,
      "outputs": []
    },
    {
      "cell_type": "markdown",
      "source": [
        "### **Make sure to go through the ReadMe doc on the Github repository here**: https://github.com/ArdenButterfield/stammer#instructions"
      ],
      "metadata": {
        "id": "_E3D5e2SYHjT"
      }
    },
    {
      "cell_type": "code",
      "source": [
        "#@markdown # STAMMER!!\n",
        "carrier_track = \"/content/drive/MyDrive/strammer/carrier_track.mp4\"  #@param {type:\"string\"}\n",
        "\n",
        "modulator_track = \"/content/drive/MyDrive/strammer/modulator_track.mp4\"  #@param {type:\"string\"}\n",
        "\n",
        "output_file = \"/content/drive/MyDrive/strammer/out.mp4\"  #@param {type:\"string\"}\n",
        "\n",
        "!python stammer.py {carrier_track} {modulator_track} {output_file}"
      ],
      "metadata": {
        "cellView": "form",
        "id": "UzyO37bdS7AI"
      },
      "execution_count": null,
      "outputs": []
    },
    {
      "cell_type": "code",
      "source": [
        "#@markdown # Download the video file to your local machine\n",
        "\n",
        "from google.colab import files\n",
        "\n",
        "# Download the video file to your local machine\n",
        "files.download(output_file)"
      ],
      "metadata": {
        "cellView": "form",
        "id": "W_9zSxxxq2U4"
      },
      "execution_count": null,
      "outputs": []
    },
    {
      "cell_type": "code",
      "source": [
        "#@markdown # Display output video\n",
        "# Display output video\n",
        "import cv2\n",
        "from IPython.display import clear_output, HTML, display\n",
        "from base64 import b64encode\n",
        "\n",
        "output_video_path = output_file\n",
        "\n",
        "# Capture the video\n",
        "cap = cv2.VideoCapture(str(output_video_path))\n",
        "frame_count = int(cap.get(cv2.CAP_PROP_FRAME_COUNT))\n",
        "\n",
        "# Create a list to store video frames as bytes\n",
        "video_frames = []\n",
        "\n",
        "for i in range(frame_count):\n",
        "    ret, frame = cap.read()\n",
        "    \n",
        "    if not ret:\n",
        "        break\n",
        "    \n",
        "    # Encode the frame as an image in memory\n",
        "    _, buffer = cv2.imencode(\".jpg\", frame)\n",
        "    \n",
        "    # Append the base64-encoded frame to the video_frames list\n",
        "    video_frames.append(b64encode(buffer).decode(\"ascii\"))\n",
        "\n",
        "# Close the video file\n",
        "cap.release()\n",
        "\n",
        "# Create an HTML string to display the video frames as an embedded video\n",
        "html = f\"\"\"\n",
        "<div style=\"text-align: center;\">\n",
        "  <video width=\"640\" height=\"480\" controls autoplay>\n",
        "    <source src=\"data:video/mp4;base64,{b64encode(open(str(output_video_path), \"rb\").read()).decode(\"ascii\")}\" type=\"video/mp4\" />\n",
        "  </video>\n",
        "</div>\n",
        "\"\"\"\n",
        "\n",
        "# Display the video in the notebook\n",
        "display(HTML(html))\n"
      ],
      "metadata": {
        "cellView": "form",
        "id": "RLN8MXyTWAUs"
      },
      "execution_count": null,
      "outputs": []
    }
  ]
}